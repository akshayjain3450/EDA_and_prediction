{
 "cells": [
  {
   "cell_type": "code",
   "execution_count": 1,
   "metadata": {},
   "outputs": [],
   "source": [
    "import pandas as pd\n",
    "import numpy as np\n",
    "import matplotlib.pyplot as plt\n",
    "import seaborn as sns\n",
    "%matplotlib inline"
   ]
  },
  {
   "cell_type": "code",
   "execution_count": 2,
   "metadata": {},
   "outputs": [
    {
     "data": {
      "text/html": [
       "<div>\n",
       "<style scoped>\n",
       "    .dataframe tbody tr th:only-of-type {\n",
       "        vertical-align: middle;\n",
       "    }\n",
       "\n",
       "    .dataframe tbody tr th {\n",
       "        vertical-align: top;\n",
       "    }\n",
       "\n",
       "    .dataframe thead th {\n",
       "        text-align: right;\n",
       "    }\n",
       "</style>\n",
       "<table border=\"1\" class=\"dataframe\">\n",
       "  <thead>\n",
       "    <tr style=\"text-align: right;\">\n",
       "      <th></th>\n",
       "      <th>SKU</th>\n",
       "      <th>01/08/2019</th>\n",
       "      <th>02/08/2019</th>\n",
       "      <th>03/08/2019</th>\n",
       "      <th>04/08/2019</th>\n",
       "      <th>05/08/2019</th>\n",
       "      <th>06/08/2019</th>\n",
       "      <th>07/08/2019</th>\n",
       "      <th>08/08/2019</th>\n",
       "      <th>09/08/2019</th>\n",
       "      <th>...</th>\n",
       "      <th>22/07/2020</th>\n",
       "      <th>23/07/2020</th>\n",
       "      <th>24/07/2020</th>\n",
       "      <th>25/07/2020</th>\n",
       "      <th>26/07/2020</th>\n",
       "      <th>27/07/2020</th>\n",
       "      <th>28/07/2020</th>\n",
       "      <th>29/07/2020</th>\n",
       "      <th>30/07/2020</th>\n",
       "      <th>31/07/2020</th>\n",
       "    </tr>\n",
       "  </thead>\n",
       "  <tbody>\n",
       "    <tr>\n",
       "      <th>0</th>\n",
       "      <td>2527</td>\n",
       "      <td>1551</td>\n",
       "      <td>1613</td>\n",
       "      <td>1613</td>\n",
       "      <td>1532</td>\n",
       "      <td>1517</td>\n",
       "      <td>1441</td>\n",
       "      <td>1383</td>\n",
       "      <td>1424</td>\n",
       "      <td>1381</td>\n",
       "      <td>...</td>\n",
       "      <td>1929</td>\n",
       "      <td>1948</td>\n",
       "      <td>1929</td>\n",
       "      <td>1987</td>\n",
       "      <td>2027</td>\n",
       "      <td>1926</td>\n",
       "      <td>1926</td>\n",
       "      <td>1849</td>\n",
       "      <td>1904</td>\n",
       "      <td>1828</td>\n",
       "    </tr>\n",
       "    <tr>\n",
       "      <th>1</th>\n",
       "      <td>3042</td>\n",
       "      <td>2240</td>\n",
       "      <td>2330</td>\n",
       "      <td>2423</td>\n",
       "      <td>2350</td>\n",
       "      <td>2374</td>\n",
       "      <td>2398</td>\n",
       "      <td>2278</td>\n",
       "      <td>2210</td>\n",
       "      <td>2232</td>\n",
       "      <td>...</td>\n",
       "      <td>7096</td>\n",
       "      <td>7025</td>\n",
       "      <td>6955</td>\n",
       "      <td>6746</td>\n",
       "      <td>6881</td>\n",
       "      <td>6606</td>\n",
       "      <td>6804</td>\n",
       "      <td>6872</td>\n",
       "      <td>6872</td>\n",
       "      <td>7078</td>\n",
       "    </tr>\n",
       "    <tr>\n",
       "      <th>2</th>\n",
       "      <td>3086</td>\n",
       "      <td>891</td>\n",
       "      <td>909</td>\n",
       "      <td>936</td>\n",
       "      <td>889</td>\n",
       "      <td>880</td>\n",
       "      <td>906</td>\n",
       "      <td>870</td>\n",
       "      <td>879</td>\n",
       "      <td>844</td>\n",
       "      <td>...</td>\n",
       "      <td>829</td>\n",
       "      <td>829</td>\n",
       "      <td>812</td>\n",
       "      <td>788</td>\n",
       "      <td>788</td>\n",
       "      <td>772</td>\n",
       "      <td>811</td>\n",
       "      <td>803</td>\n",
       "      <td>763</td>\n",
       "      <td>763</td>\n",
       "    </tr>\n",
       "    <tr>\n",
       "      <th>3</th>\n",
       "      <td>3155</td>\n",
       "      <td>1628</td>\n",
       "      <td>1628</td>\n",
       "      <td>1563</td>\n",
       "      <td>1532</td>\n",
       "      <td>1563</td>\n",
       "      <td>1563</td>\n",
       "      <td>1532</td>\n",
       "      <td>1593</td>\n",
       "      <td>1513</td>\n",
       "      <td>...</td>\n",
       "      <td>1719</td>\n",
       "      <td>1805</td>\n",
       "      <td>1895</td>\n",
       "      <td>1895</td>\n",
       "      <td>1990</td>\n",
       "      <td>2030</td>\n",
       "      <td>2050</td>\n",
       "      <td>2132</td>\n",
       "      <td>2111</td>\n",
       "      <td>2027</td>\n",
       "    </tr>\n",
       "    <tr>\n",
       "      <th>4</th>\n",
       "      <td>3166</td>\n",
       "      <td>369</td>\n",
       "      <td>354</td>\n",
       "      <td>343</td>\n",
       "      <td>340</td>\n",
       "      <td>330</td>\n",
       "      <td>337</td>\n",
       "      <td>350</td>\n",
       "      <td>343</td>\n",
       "      <td>340</td>\n",
       "      <td>...</td>\n",
       "      <td>335</td>\n",
       "      <td>328</td>\n",
       "      <td>325</td>\n",
       "      <td>319</td>\n",
       "      <td>316</td>\n",
       "      <td>319</td>\n",
       "      <td>329</td>\n",
       "      <td>336</td>\n",
       "      <td>349</td>\n",
       "      <td>352</td>\n",
       "    </tr>\n",
       "  </tbody>\n",
       "</table>\n",
       "<p>5 rows × 367 columns</p>\n",
       "</div>"
      ],
      "text/plain": [
       "    SKU  01/08/2019  02/08/2019  03/08/2019  04/08/2019  05/08/2019  \\\n",
       "0  2527        1551        1613        1613        1532        1517   \n",
       "1  3042        2240        2330        2423        2350        2374   \n",
       "2  3086         891         909         936         889         880   \n",
       "3  3155        1628        1628        1563        1532        1563   \n",
       "4  3166         369         354         343         340         330   \n",
       "\n",
       "   06/08/2019  07/08/2019  08/08/2019  09/08/2019  ...  22/07/2020  \\\n",
       "0        1441        1383        1424        1381  ...        1929   \n",
       "1        2398        2278        2210        2232  ...        7096   \n",
       "2         906         870         879         844  ...         829   \n",
       "3        1563        1532        1593        1513  ...        1719   \n",
       "4         337         350         343         340  ...         335   \n",
       "\n",
       "   23/07/2020  24/07/2020  25/07/2020  26/07/2020  27/07/2020  28/07/2020  \\\n",
       "0        1948        1929        1987        2027        1926        1926   \n",
       "1        7025        6955        6746        6881        6606        6804   \n",
       "2         829         812         788         788         772         811   \n",
       "3        1805        1895        1895        1990        2030        2050   \n",
       "4         328         325         319         316         319         329   \n",
       "\n",
       "   29/07/2020  30/07/2020  31/07/2020  \n",
       "0        1849        1904        1828  \n",
       "1        6872        6872        7078  \n",
       "2         803         763         763  \n",
       "3        2132        2111        2027  \n",
       "4         336         349         352  \n",
       "\n",
       "[5 rows x 367 columns]"
      ]
     },
     "execution_count": 2,
     "metadata": {},
     "output_type": "execute_result"
    }
   ],
   "source": [
    "df = pd.read_csv('/home/dheeraj/my_projects/my_project_env/practice/EDA_and_prediction/sku.csv')\n",
    "df.head()"
   ]
  },
  {
   "cell_type": "code",
   "execution_count": 59,
   "metadata": {},
   "outputs": [
    {
     "data": {
      "text/plain": [
       "01/07/2020    2481.736842\n",
       "02/07/2020    2471.145749\n",
       "03/07/2020    2466.502024\n",
       "04/07/2020    2487.995951\n",
       "05/07/2020    2476.765182\n",
       "06/07/2020    2506.890688\n",
       "07/07/2020    2472.817814\n",
       "08/07/2020    2450.376518\n",
       "09/07/2020    2428.384615\n",
       "10/07/2020    2438.388664\n",
       "11/07/2020    2454.935223\n",
       "12/07/2020    2442.595142\n",
       "13/07/2020    2425.538462\n",
       "14/07/2020    2405.655870\n",
       "15/07/2020    2395.016194\n",
       "16/07/2020    2424.489879\n",
       "17/07/2020    2444.344130\n",
       "18/07/2020    2432.744939\n",
       "19/07/2020    2399.024291\n",
       "20/07/2020    2405.558704\n",
       "21/07/2020    2422.303644\n",
       "22/07/2020    2440.060729\n",
       "23/07/2020    2458.421053\n",
       "24/07/2020    2483.562753\n",
       "25/07/2020    2492.923077\n",
       "26/07/2020    2475.408907\n",
       "27/07/2020    2488.761134\n",
       "28/07/2020    2486.012146\n",
       "29/07/2020    2483.251012\n",
       "30/07/2020    2470.870445\n",
       "31/07/2020    2483.757085\n",
       "dtype: float64"
      ]
     },
     "execution_count": 59,
     "metadata": {},
     "output_type": "execute_result"
    }
   ],
   "source": [
    "df.iloc[0:,336:367].mean()"
   ]
  },
  {
   "cell_type": "code",
   "execution_count": 60,
   "metadata": {},
   "outputs": [
    {
     "data": {
      "text/plain": [
       "2166.671542379522"
      ]
     },
     "execution_count": 60,
     "metadata": {},
     "output_type": "execute_result"
    }
   ],
   "source": [
    "aug = df.iloc[0:, 1:32].mean().mean()\n",
    "aug\n"
   ]
  },
  {
   "cell_type": "code",
   "execution_count": 61,
   "metadata": {},
   "outputs": [
    {
     "data": {
      "text/plain": [
       "2335.942105263158"
      ]
     },
     "execution_count": 61,
     "metadata": {},
     "output_type": "execute_result"
    }
   ],
   "source": [
    "sep = df.iloc[0:, 32:62].mean().mean()\n",
    "sep"
   ]
  },
  {
   "cell_type": "code",
   "execution_count": 63,
   "metadata": {},
   "outputs": [
    {
     "data": {
      "text/plain": [
       "2389.984066866919"
      ]
     },
     "execution_count": 63,
     "metadata": {},
     "output_type": "execute_result"
    }
   ],
   "source": [
    "octu = df.iloc[0:, 62:93].mean().mean()\n",
    "octu"
   ]
  },
  {
   "cell_type": "code",
   "execution_count": 64,
   "metadata": {},
   "outputs": [
    {
     "data": {
      "text/plain": [
       "2422.9439946018892"
      ]
     },
     "execution_count": 64,
     "metadata": {},
     "output_type": "execute_result"
    }
   ],
   "source": [
    "nov = df.iloc[0:, 93:123].mean().mean()\n",
    "nov"
   ]
  },
  {
   "cell_type": "code",
   "execution_count": 65,
   "metadata": {},
   "outputs": [
    {
     "data": {
      "text/plain": [
       "2551.4261460101866"
      ]
     },
     "execution_count": 65,
     "metadata": {},
     "output_type": "execute_result"
    }
   ],
   "source": [
    "dec = df.iloc[0:, 123:154].mean().mean()\n",
    "dec"
   ]
  },
  {
   "cell_type": "code",
   "execution_count": 66,
   "metadata": {},
   "outputs": [
    {
     "data": {
      "text/plain": [
       "2503.6044142614605"
      ]
     },
     "execution_count": 66,
     "metadata": {},
     "output_type": "execute_result"
    }
   ],
   "source": [
    "jan = df.iloc[0:, 154:185].mean().mean()\n",
    "jan"
   ]
  },
  {
   "cell_type": "code",
   "execution_count": 67,
   "metadata": {},
   "outputs": [
    {
     "data": {
      "text/plain": [
       "2509.208013402206"
      ]
     },
     "execution_count": 67,
     "metadata": {},
     "output_type": "execute_result"
    }
   ],
   "source": [
    "feb = df.iloc[0:, 185:214].mean().mean()\n",
    "feb"
   ]
  },
  {
   "cell_type": "code",
   "execution_count": 68,
   "metadata": {},
   "outputs": [
    {
     "data": {
      "text/plain": [
       "2642.623742980279"
      ]
     },
     "execution_count": 68,
     "metadata": {},
     "output_type": "execute_result"
    }
   ],
   "source": [
    "march = df.iloc[0:, 214:245].mean().mean()\n",
    "march"
   ]
  },
  {
   "cell_type": "code",
   "execution_count": 69,
   "metadata": {},
   "outputs": [
    {
     "data": {
      "text/plain": [
       "2578.066396761133"
      ]
     },
     "execution_count": 69,
     "metadata": {},
     "output_type": "execute_result"
    }
   ],
   "source": [
    "april= df.iloc[0:, 245:275].mean().mean()\n",
    "april"
   ]
  },
  {
   "cell_type": "code",
   "execution_count": 70,
   "metadata": {},
   "outputs": [
    {
     "data": {
      "text/plain": [
       "2423.3964999347"
      ]
     },
     "execution_count": 70,
     "metadata": {},
     "output_type": "execute_result"
    }
   ],
   "source": [
    "may= df.iloc[0:, 275:306].mean().mean()\n",
    "may"
   ]
  },
  {
   "cell_type": "code",
   "execution_count": 71,
   "metadata": {},
   "outputs": [
    {
     "data": {
      "text/plain": [
       "2470.1121457489876"
      ]
     },
     "execution_count": 71,
     "metadata": {},
     "output_type": "execute_result"
    }
   ],
   "source": [
    "june= df.iloc[0:, 306:336].mean().mean()\n",
    "june\n"
   ]
  },
  {
   "cell_type": "code",
   "execution_count": 72,
   "metadata": {},
   "outputs": [
    {
     "data": {
      "text/plain": [
       "2454.717382786993"
      ]
     },
     "execution_count": 72,
     "metadata": {},
     "output_type": "execute_result"
    }
   ],
   "source": [
    "july= df.iloc[0:, 336:367].mean().mean()\n",
    "july"
   ]
  },
  {
   "cell_type": "code",
   "execution_count": null,
   "metadata": {},
   "outputs": [],
   "source": []
  }
 ],
 "metadata": {
  "kernelspec": {
   "display_name": "Python 3",
   "language": "python",
   "name": "python3"
  },
  "language_info": {
   "codemirror_mode": {
    "name": "ipython",
    "version": 3
   },
   "file_extension": ".py",
   "mimetype": "text/x-python",
   "name": "python",
   "nbconvert_exporter": "python",
   "pygments_lexer": "ipython3",
   "version": "3.6.8"
  }
 },
 "nbformat": 4,
 "nbformat_minor": 2
}
